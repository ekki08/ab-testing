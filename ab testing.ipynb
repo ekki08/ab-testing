{
 "cells": [
  {
   "cell_type": "markdown",
   "id": "2bedb6d8",
   "metadata": {},
   "source": [
    "### A/B Testing For Multinomial Regression"
   ]
  },
  {
   "cell_type": "markdown",
   "id": "65ffa9e2",
   "metadata": {},
   "source": [
    "-- Instalation Package"
   ]
  },
  {
   "cell_type": "code",
   "execution_count": 1,
   "id": "b97e3e09",
   "metadata": {},
   "outputs": [],
   "source": [
    "import pandas as pd\n",
    "import numpy as np\n",
    "import matplotlib.pyplot as plt\n",
    "import seaborn as sns\n",
    "from sklearn.preprocessing import StandardScaler\n",
    "from sklearn.model_selection import train_test_split, cross_val_score\n",
    "from sklearn.linear_model import LogisticRegression\n",
    "from sklearn.pipeline import Pipeline\n",
    "from sklearn.metrics import (accuracy_score, precision_score, recall_score, f1_score, \n",
    "                           classification_report, confusion_matrix, roc_auc_score)\n",
    "import mlflow\n",
    "import warnings\n",
    "from scipy import stats\n",
    "import time\n",
    "from datetime import datetime\n",
    "import json\n",
    "import os\n",
    "warnings.filterwarnings('ignore')"
   ]
  },
  {
   "cell_type": "markdown",
   "id": "49e3dacd",
   "metadata": {},
   "source": [
    "-- Prepare and Load Data"
   ]
  },
  {
   "cell_type": "code",
   "execution_count": 12,
   "id": "106c0c7c",
   "metadata": {},
   "outputs": [],
   "source": [
    "class ABTestingFramework:\n",
    "    \"\"\"\n",
    "    Framework A/B Testing untuk model Multinomial Regression\n",
    "    \"\"\"\n",
    "    def __init__(self, data_path=\"data/winequality-red.csv\", random_state=42):\n",
    "        self.data_path = data_path\n",
    "        self.random_state = random_state\n",
    "        self.results = {}\n",
    "        self.experiments = {}\n",
    "        \n",
    "        # Load dan prepare data\n",
    "        self.load_data()\n",
    "        self.prepare_data()\n",
    "        \n",
    "    def load_data(self):\n",
    "        \"\"\"Load dataset wine quality\"\"\"\n",
    "        print(\"Loading wine quality dataset...\")\n",
    "        self.df = pd.read_csv(self.data_path, sep=\";\")\n",
    "        \n",
    "        # Create quality groups\n",
    "        def simplify_quality(q):\n",
    "            if q <= 4:  # low\n",
    "                return 0\n",
    "            if q <= 6:  # medium\n",
    "                return 1 \n",
    "            else:  # high\n",
    "                return 2\n",
    "        \n",
    "        self.df[\"qualityg\"] = self.df[\"quality\"].apply(simplify_quality)\n",
    "        \n",
    "        # Prepare features dan target\n",
    "        self.X = self.df.drop(columns=[\"quality\", \"qualityg\"])\n",
    "        self.y = self.df[\"qualityg\"]\n",
    "        \n",
    "        print(f\"Dataset loaded: {self.df.shape}\")\n",
    "        print(f\"Target distribution: {np.bincount(self.y)}\")\n",
    "        \n",
    "    def prepare_data(self):\n",
    "        \"\"\"Prepare data untuk A/B testing\"\"\"\n",
    "        # Split data dengan stratification\n",
    "        self.X_train, self.X_test, self.y_train, self.y_test = train_test_split(\n",
    "            self.X, self.y, test_size=0.2, random_state=self.random_state, stratify=self.y\n",
    "        )\n",
    "        \n",
    "        print(f\"Training set: {self.X_train.shape}\")\n",
    "        print(f\"Test set: {self.X_test.shape}\")\n",
    "        \n",
    "    def create_model_variant(self, variant_name, **params):\n",
    "        \"\"\"\n",
    "        Membuat variant model dengan parameter yang berbeda\n",
    "        \n",
    "        Parameters:\n",
    "        - variant_name: Nama variant (A, B, C, dll)\n",
    "        - **params: Parameter untuk model (C, solver, max_iter, dll)\n",
    "        \"\"\"\n",
    "        default_params = {\n",
    "            'C': 1.0,\n",
    "            'solver': 'lbfgs',\n",
    "            'max_iter': 1000,\n",
    "            'random_state': self.random_state\n",
    "        }\n",
    "          # Update dengan parameter yang diberikan\n",
    "        model_params = {**default_params, **params}\n",
    "        \n",
    "        # Buat pipeline\n",
    "        model = Pipeline([\n",
    "            ('scaler', StandardScaler()),\n",
    "            ('multinomial_lr', LogisticRegression(**model_params))\n",
    "        ])\n",
    "        \n",
    "        self.experiments[variant_name] = {\n",
    "            'model': model,\n",
    "            'params': model_params,\n",
    "            'created_at': datetime.now().isoformat()\n",
    "        }\n",
    "        \n",
    "        print(f\"Model variant '{variant_name}' created with params: {model_params}\")\n",
    "        return model"
   ]
  },
  {
   "cell_type": "code",
   "execution_count": null,
   "id": "42f70a7c",
   "metadata": {},
   "outputs": [
    {
     "ename": "IndentationError",
     "evalue": "unindent does not match any outer indentation level (<string>, line 39)",
     "output_type": "error",
     "traceback": [
      "  \u001b[36mFile \u001b[39m\u001b[32m<string>:39\u001b[39m\n\u001b[31m    \u001b[39m\u001b[31mdef _assert_trained_variant(self, variant_name):\u001b[39m\n                                                    ^\n\u001b[31mIndentationError\u001b[39m\u001b[31m:\u001b[39m unindent does not match any outer indentation level\n"
     ]
    }
   ],
   "source": []
  },
  {
   "cell_type": "code",
   "execution_count": null,
   "id": "59c1d9d4",
   "metadata": {},
   "outputs": [],
   "source": []
  },
  {
   "cell_type": "code",
   "execution_count": null,
   "id": "bca3a8ca",
   "metadata": {},
   "outputs": [],
   "source": []
  },
  {
   "cell_type": "code",
   "execution_count": null,
   "id": "2fc42c58",
   "metadata": {},
   "outputs": [],
   "source": []
  }
 ],
 "metadata": {
  "kernelspec": {
   "display_name": "Python 3",
   "language": "python",
   "name": "python3"
  },
  "language_info": {
   "codemirror_mode": {
    "name": "ipython",
    "version": 3
   },
   "file_extension": ".py",
   "mimetype": "text/x-python",
   "name": "python",
   "nbconvert_exporter": "python",
   "pygments_lexer": "ipython3",
   "version": "3.13.3"
  }
 },
 "nbformat": 4,
 "nbformat_minor": 5
}
